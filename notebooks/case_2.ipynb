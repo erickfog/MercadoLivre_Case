{
 "cells": [
  {
   "cell_type": "markdown",
   "metadata": {},
   "source": [
    "Orientación Rostro\n",
    "Nuestro sistema de registro de documentos de usuarios está presentando una falla y\n",
    "nuestros expertos han dado con el problema. Para solucionarlo requerimos de la ayuda de\n",
    "un profesional en computer vision que intente resolver el siguiente requerimiento: SIN\n",
    "utilizar modelos de Machine Learning, construir un sistema que dada la fotografía de un\n",
    "cliente determine de forma automática la orientación del rostro dentro de la imagen, como\n",
    "se muestra en la imagen.\n",
    "\n",
    "Puedes utilizar procedimientos de visión por computadora que no involucren algoritmos de\n",
    "aprendizaje automático."
   ]
  },
  {
   "cell_type": "markdown",
   "metadata": {},
   "source": [
    "# Primeiro Teste"
   ]
  },
  {
   "cell_type": "code",
   "execution_count": 14,
   "metadata": {},
   "outputs": [],
   "source": [
    "import cv2\n",
    "import numpy as np\n",
    "\n",
    "def detectar_orientacao(imagem_path):\n",
    "    # Carrega imagem e converte para escala de cinza\n",
    "    img = cv2.imread(imagem_path)\n",
    "    gray = cv2.cvtColor(img, cv2.COLOR_BGR2GRAY)\n",
    "\n",
    "    blurred = cv2.GaussianBlur(gray, (5, 5), 0)\n",
    "    _, thresh = cv2.threshold(blurred, 80, 255, cv2.THRESH_BINARY_INV + cv2.THRESH_OTSU)\n",
    "\n",
    "    contornos, _ = cv2.findContours(thresh, cv2.RETR_EXTERNAL, cv2.CHAIN_APPROX_SIMPLE)\n",
    "    if not contornos:\n",
    "        return \"Nenhum contorno encontrado.\"\n",
    "\n",
    "    contorno = max(contornos, key=cv2.contourArea)\n",
    "\n",
    "    if cv2.contourArea(contorno) < 1000:\n",
    "        return \"Rosto não identificado.\"\n",
    "\n",
    "    # Encontra retângulo com ângulo mínimo ao redor do contorno\n",
    "    rect = cv2.minAreaRect(contorno)\n",
    "    _, (w, h), angle = rect\n",
    "\n",
    "    # Ajuste do ângulo\n",
    "    if w < h:\n",
    "        angle = -angle\n",
    "    else:\n",
    "        angle = 90 - angle\n",
    "\n",
    "    # Normaliza ângulo para 0 a 360\n",
    "    angle = angle % 360\n",
    "\n",
    "    # Classifica em 0, 90, 180 ou 270 (tolerância de 20 graus)\n",
    "    if (angle >= 340 or angle <= 20):\n",
    "        orientacao = \"0° (reto)\"\n",
    "    elif 70 <= angle <= 110:\n",
    "        orientacao = \"270° (virado à esquerda)\"\n",
    "    elif 160 <= angle <= 200:\n",
    "        orientacao = \"180° (de cabeça para baixo)\"\n",
    "    elif 250 <= angle <= 290:\n",
    "        orientacao = \"90° (virado à direita)\"\n",
    "    else:\n",
    "        orientacao = f\"Ângulo intermediário: {int(angle)}° (fora das 4 orientações principais)\"\n",
    "\n",
    "    return f\"Orientação detectada: {orientacao}\""
   ]
  },
  {
   "cell_type": "code",
   "execution_count": 15,
   "metadata": {},
   "outputs": [
    {
     "name": "stdout",
     "output_type": "stream",
     "text": [
      "Orientação detectada: 0° (reto)\n"
     ]
    }
   ],
   "source": [
    "\n",
    "imagem_path = \"../data/zero.png\"\n",
    "resultado = detectar_orientacao(imagem_path)\n",
    "print(resultado)"
   ]
  },
  {
   "cell_type": "markdown",
   "metadata": {},
   "source": [
    "Esse teste não funcionou para os ângulos de 180 e 270, imagino que algo com a região do cabelo pode estar dando influenciando. "
   ]
  },
  {
   "cell_type": "markdown",
   "metadata": {},
   "source": [
    "# Segundo Teste - debug primeiro"
   ]
  },
  {
   "cell_type": "code",
   "execution_count": 16,
   "metadata": {},
   "outputs": [],
   "source": [
    "import cv2\n",
    "import numpy as np\n",
    "\n",
    "def detectar_orientacao_debug(imagem_path):\n",
    "    img = cv2.imread(imagem_path)\n",
    "    gray = cv2.cvtColor(img, cv2.COLOR_BGR2GRAY)\n",
    "\n",
    "    blurred = cv2.GaussianBlur(gray, (5, 5), 0)\n",
    "    _, thresh = cv2.threshold(blurred, 80, 255, cv2.THRESH_BINARY_INV + cv2.THRESH_OTSU)\n",
    "\n",
    "    contornos, _ = cv2.findContours(thresh, cv2.RETR_EXTERNAL, cv2.CHAIN_APPROX_SIMPLE)\n",
    "    if not contornos:\n",
    "        return \"Nenhum contorno encontrado.\"\n",
    "\n",
    "    contorno = max(contornos, key=cv2.contourArea)\n",
    "    if cv2.contourArea(contorno) < 1000:\n",
    "        return \"Rosto não identificado.\"\n",
    "\n",
    "    rect = cv2.minAreaRect(contorno)\n",
    "    (x, y), (w, h), angle = rect\n",
    "\n",
    "    # DEBUG: Print raw values\n",
    "    print(f\"Raw angle: {angle:.2f}, width: {w:.2f}, height: {h:.2f}\")\n",
    "\n",
    "    # Fix angle\n",
    "    if w < h:\n",
    "        angle = -angle\n",
    "    else:\n",
    "        angle = 90 - angle\n",
    "\n",
    "    angle = angle % 360\n",
    "\n",
    "    # Classify into 4 main orientations\n",
    "    if (angle >= 340 or angle <= 20):\n",
    "        orientacao = \"0° (reto)\"\n",
    "    elif 70 <= angle <= 110:\n",
    "        orientacao = \"270° (virado à esquerda)\"\n",
    "    elif 160 <= angle <= 200:\n",
    "        orientacao = \"180° (de cabeça para baixo)\"\n",
    "    elif 250 <= angle <= 290:\n",
    "        orientacao = \"90° (virado à direita)\"\n",
    "    else:\n",
    "        orientacao = f\"Ângulo intermediário: {int(angle)}° (fora das 4 orientações principais)\"\n",
    "\n",
    "    print(f\"Adjusted angle: {int(angle)}° -> {orientacao}\")\n",
    "    return f\"Orientação detectada: {orientacao}\"\n"
   ]
  },
  {
   "cell_type": "code",
   "execution_count": 18,
   "metadata": {},
   "outputs": [
    {
     "name": "stdout",
     "output_type": "stream",
     "text": [
      "Raw angle: 90.00, width: 91.00, height: 113.00\n",
      "Adjusted angle: 270° -> 90° (virado à direita)\n",
      "Orientação detectada: 90° (virado à direita)\n"
     ]
    }
   ],
   "source": [
    "\n",
    "imagem_path = \"../data/270.png\"\n",
    "resultado = detectar_orientacao_debug(imagem_path)\n",
    "print(resultado)"
   ]
  },
  {
   "cell_type": "markdown",
   "metadata": {},
   "source": [
    "# Terceiro Teste - ajuste de ângulo"
   ]
  },
  {
   "cell_type": "code",
   "execution_count": 19,
   "metadata": {},
   "outputs": [],
   "source": [
    "import cv2\n",
    "import numpy as np\n",
    "\n",
    "def ajustar_angulo(angle, w, h):\n",
    "    if w < h:\n",
    "        adjusted = -angle\n",
    "    else:\n",
    "        adjusted = -(angle + 90)\n",
    "    adjusted = adjusted % 360\n",
    "\n",
    "    print(f\"Adjusted angle: {adjusted:.2f}°\")\n",
    "\n",
    "    if adjusted <= 20 or adjusted >= 340:\n",
    "        return \"0° (reto)\"\n",
    "    elif 70 <= adjusted <= 110:\n",
    "        return \"90° (virado à direita)\"\n",
    "    elif 160 <= adjusted <= 200:\n",
    "        return \"180° (de cabeça para baixo)\"\n",
    "    elif 250 <= adjusted <= 290:\n",
    "        return \"270° (virado à esquerda)\"\n",
    "    else:\n",
    "        return f\"Ângulo intermediário: {int(adjusted)}°\"\n",
    "\n",
    "def detectar_orientacao_final(imagem_path):\n",
    "    img = cv2.imread(imagem_path)\n",
    "    gray = cv2.cvtColor(img, cv2.COLOR_BGR2GRAY)\n",
    "\n",
    "    blurred = cv2.GaussianBlur(gray, (5, 5), 0)\n",
    "    _, thresh = cv2.threshold(blurred, 80, 255, cv2.THRESH_BINARY_INV + cv2.THRESH_OTSU)\n",
    "\n",
    "    contornos, _ = cv2.findContours(thresh, cv2.RETR_EXTERNAL, cv2.CHAIN_APPROX_SIMPLE)\n",
    "    if not contornos:\n",
    "        return \"Nenhum contorno encontrado.\"\n",
    "\n",
    "    contorno = max(contornos, key=cv2.contourArea)\n",
    "    if cv2.contourArea(contorno) < 1000:\n",
    "        return \"Rosto não identificado.\"\n",
    "\n",
    "    rect = cv2.minAreaRect(contorno)\n",
    "    (x, y), (w, h), angle = rect\n",
    "    print(f\"Raw angle: {angle:.2f}, width: {w:.2f}, height: {h:.2f}\")\n",
    "\n",
    "    orientacao = ajustar_angulo(angle, w, h)\n",
    "    return f\"Orientação detectada: {orientacao}\"\n"
   ]
  },
  {
   "cell_type": "code",
   "execution_count": 25,
   "metadata": {},
   "outputs": [
    {
     "name": "stdout",
     "output_type": "stream",
     "text": [
      "Raw angle: 90.00, width: 91.00, height: 112.00\n",
      "Adjusted angle: 270.00°\n",
      "Orientação detectada: 270° (virado à esquerda)\n"
     ]
    }
   ],
   "source": [
    "\n",
    "imagem_path = \"../data/90.png\"\n",
    "resultado = detectar_orientacao_final(imagem_path)\n",
    "print(resultado)"
   ]
  },
  {
   "cell_type": "markdown",
   "metadata": {},
   "source": [
    "# Quarta Versão"
   ]
  },
  {
   "cell_type": "code",
   "execution_count": 29,
   "metadata": {},
   "outputs": [],
   "source": [
    "import cv2\n",
    "import numpy as np\n",
    "\n",
    "def ajustar_angulo(angle, w, h):\n",
    "    if w < h:\n",
    "        adjusted = -angle\n",
    "    else:\n",
    "        adjusted = -(angle + 90)\n",
    "    adjusted = adjusted % 360\n",
    "\n",
    "    print(f\"Adjusted angle: {adjusted:.2f}°\")\n",
    "\n",
    "    if adjusted <= 20 or adjusted >= 340:\n",
    "        return \"0° (reto)\"\n",
    "    elif 70 <= adjusted <= 110:\n",
    "        return \"90° (virado à direita)\"\n",
    "    elif 160 <= adjusted <= 200:\n",
    "        return \"180° (de cabeça para baixo)\"\n",
    "    elif 250 <= adjusted <= 290:\n",
    "        return \"270° (virado à esquerda)\"\n",
    "    else:\n",
    "        return f\"Ângulo intermediário: {int(adjusted)}°\"\n",
    "\n",
    "def detectar_orientacao_v4_ajustado(imagem_path):\n",
    "    img = cv2.imread(imagem_path)\n",
    "    if img is None:\n",
    "        return \"Imagem não encontrada.\"\n",
    "\n",
    "    gray = cv2.cvtColor(img, cv2.COLOR_BGR2GRAY)\n",
    "    blurred = cv2.GaussianBlur(gray, (5, 5), 0)\n",
    "    edges = cv2.Canny(blurred, 30, 100)\n",
    "\n",
    "    kernel = cv2.getStructuringElement(cv2.MORPH_RECT, (5, 5))\n",
    "    edges_dilated = cv2.dilate(edges, kernel, iterations=1)\n",
    "\n",
    "    contornos, _ = cv2.findContours(edges_dilated, cv2.RETR_EXTERNAL, cv2.CHAIN_APPROX_SIMPLE)\n",
    "    if not contornos:\n",
    "        return \"Nenhum contorno encontrado.\"\n",
    "\n",
    "    contorno = max(contornos, key=cv2.contourArea)\n",
    "    if cv2.contourArea(contorno) < 1000:\n",
    "        return \"Rosto não identificado.\"\n",
    "\n",
    "    rect = cv2.minAreaRect(contorno)\n",
    "    (x, y), (w, h), angle = rect\n",
    "    print(f\"Raw angle: {angle:.2f}, width: {w:.2f}, height: {h:.2f}\")\n",
    "\n",
    "    orientacao = ajustar_angulo(angle, w, h)\n",
    "    return f\"Orientação detectada: {orientacao}\""
   ]
  },
  {
   "cell_type": "code",
   "execution_count": 33,
   "metadata": {},
   "outputs": [
    {
     "name": "stdout",
     "output_type": "stream",
     "text": [
      "Raw angle: 90.00, width: 117.00, height: 95.00\n",
      "Adjusted angle: 180.00°\n",
      "Orientação detectada: 180° (de cabeça para baixo)\n"
     ]
    }
   ],
   "source": [
    "print(detectar_orientacao_v4_ajustado(\"../data/180.png\"))"
   ]
  },
  {
   "cell_type": "markdown",
   "metadata": {},
   "source": [
    "# Conclusões"
   ]
  },
  {
   "cell_type": "markdown",
   "metadata": {},
   "source": [
    "1. Versão 1 – Thresholding + minAreaRect\n",
    "\n",
    "Princípio: Usa limiarização simples para segmentar o rosto e encontra o menor retângulo que envolve o maior contorno.\n",
    "\n",
    "Ponto forte: Simplicidade e rapidez; funciona razoavelmente em imagens com fundo neutro e boa iluminação.\n",
    "\n",
    "Limitações: Sensível à iluminação, sombra, cabelo, e ruídos. A lógica de ajuste do ângulo causa erros frequentes, especialmente confunde rotações de 90° e 270°.\n",
    "\n",
    "Robustez: Baixa. Muitas falhas em imagens rotacionadas, principalmente com variações naturais no cabelo ou fundo.\n",
    "\n",
    "2. Versão 2 – Mesma abordagem com Debug\n",
    "\n",
    "Princípio: Igual à versão 1, mas com impressão dos valores do ângulo e dimensões para facilitar o diagnóstico.\n",
    "\n",
    "Ponto forte: Ajuda a entender porque a classificação falha, fornecendo dados para ajustar o cálculo.\n",
    "\n",
    "Limitações: Lógica ainda igual à versão 1, então erros de classificação persistem.\n",
    "\n",
    "Robustez: Não melhorou em relação à versão 1; a vantagem é só no debug.\n",
    "\n",
    "3. Versão 3 – Ajuste refinado do ângulo\n",
    "\n",
    "Princípio: Mesma base, mas melhora o cálculo do ângulo para normalizar corretamente e distinguir entre as rotações 90° e 270°.\n",
    "\n",
    "Ponto forte: Corrige o problema clássico da inversão do ângulo do minAreaRect.\n",
    "\n",
    "Limitações: Continua dependente da qualidade da segmentação via threshold, ainda sensível a ruído, sombras e cabelo, o que afeta a qualidade do contorno.\n",
    "\n",
    "Robustez: Melhor que as anteriores, mas ainda não totalmente confiável em imagens complexas.\n",
    "\n",
    "4. Versão 4 – Canny + minAreaRect\n",
    "\n",
    "Princípio: Usa detecção de bordas Canny para extrair contornos, substituindo a segmentação por threshold.\n",
    "\n",
    "Ponto forte: Captura bordas mais relevantes (traços do rosto) e é menos afetada por variações na iluminação comparada ao threshold.\n",
    "\n",
    "Limitações: Ainda depende de parâmetros finos do Canny, pode gerar ruído em fundos complexos e falha em imagens com bordas fracas ou desfocadas. A necessidade de dilatação e ajuste fino complica a confiabilidade.\n",
    "\n",
    "Robustez: Teoricamente melhor, mas na prática depende muito da qualidade da imagem e ajuste dos parâmetros. Ainda não perfeito para todos os casos."
   ]
  }
 ],
 "metadata": {
  "kernelspec": {
   "display_name": ".venv",
   "language": "python",
   "name": "python3"
  },
  "language_info": {
   "codemirror_mode": {
    "name": "ipython",
    "version": 3
   },
   "file_extension": ".py",
   "mimetype": "text/x-python",
   "name": "python",
   "nbconvert_exporter": "python",
   "pygments_lexer": "ipython3",
   "version": "3.10.12"
  }
 },
 "nbformat": 4,
 "nbformat_minor": 2
}
